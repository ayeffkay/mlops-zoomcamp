{
 "cells": [
  {
   "attachments": {},
   "cell_type": "markdown",
   "metadata": {},
   "source": [
    "### Q1"
   ]
  },
  {
   "cell_type": "code",
   "execution_count": 1,
   "metadata": {},
   "outputs": [
    {
     "name": "stdout",
     "output_type": "stream",
     "text": [
      "Requirement already satisfied: pandas in /home/alina/anaconda3/envs/mlops_zoomcamp/lib/python3.9/site-packages (2.0.1)\n",
      "Requirement already satisfied: matplotlib in /home/alina/anaconda3/envs/mlops_zoomcamp/lib/python3.9/site-packages (3.7.1)\n",
      "Requirement already satisfied: scikit-learn in /home/alina/anaconda3/envs/mlops_zoomcamp/lib/python3.9/site-packages (1.2.2)\n",
      "Requirement already satisfied: pyarrow in /home/alina/anaconda3/envs/mlops_zoomcamp/lib/python3.9/site-packages (11.0.0)\n",
      "Requirement already satisfied: wandb in /home/alina/anaconda3/envs/mlops_zoomcamp/lib/python3.9/site-packages (0.15.3)\n",
      "Requirement already satisfied: numpy>=1.20.3 in /home/alina/anaconda3/envs/mlops_zoomcamp/lib/python3.9/site-packages (from pandas) (1.24.3)\n",
      "Requirement already satisfied: pytz>=2020.1 in /home/alina/anaconda3/envs/mlops_zoomcamp/lib/python3.9/site-packages (from pandas) (2023.3)\n",
      "Requirement already satisfied: python-dateutil>=2.8.2 in /home/alina/anaconda3/envs/mlops_zoomcamp/lib/python3.9/site-packages (from pandas) (2.8.2)\n",
      "Requirement already satisfied: tzdata>=2022.1 in /home/alina/anaconda3/envs/mlops_zoomcamp/lib/python3.9/site-packages (from pandas) (2023.3)\n",
      "Requirement already satisfied: packaging>=20.0 in /home/alina/anaconda3/envs/mlops_zoomcamp/lib/python3.9/site-packages (from matplotlib) (23.1)\n",
      "Requirement already satisfied: importlib-resources>=3.2.0 in /home/alina/anaconda3/envs/mlops_zoomcamp/lib/python3.9/site-packages (from matplotlib) (5.12.0)\n",
      "Requirement already satisfied: contourpy>=1.0.1 in /home/alina/anaconda3/envs/mlops_zoomcamp/lib/python3.9/site-packages (from matplotlib) (1.0.7)\n",
      "Requirement already satisfied: pyparsing>=2.3.1 in /home/alina/anaconda3/envs/mlops_zoomcamp/lib/python3.9/site-packages (from matplotlib) (3.0.9)\n",
      "Requirement already satisfied: pillow>=6.2.0 in /home/alina/anaconda3/envs/mlops_zoomcamp/lib/python3.9/site-packages (from matplotlib) (9.5.0)\n",
      "Requirement already satisfied: cycler>=0.10 in /home/alina/anaconda3/envs/mlops_zoomcamp/lib/python3.9/site-packages (from matplotlib) (0.11.0)\n",
      "Requirement already satisfied: kiwisolver>=1.0.1 in /home/alina/anaconda3/envs/mlops_zoomcamp/lib/python3.9/site-packages (from matplotlib) (1.4.4)\n",
      "Requirement already satisfied: fonttools>=4.22.0 in /home/alina/anaconda3/envs/mlops_zoomcamp/lib/python3.9/site-packages (from matplotlib) (4.39.4)\n",
      "Requirement already satisfied: scipy>=1.3.2 in /home/alina/anaconda3/envs/mlops_zoomcamp/lib/python3.9/site-packages (from scikit-learn) (1.10.1)\n",
      "Requirement already satisfied: threadpoolctl>=2.0.0 in /home/alina/anaconda3/envs/mlops_zoomcamp/lib/python3.9/site-packages (from scikit-learn) (3.1.0)\n",
      "Requirement already satisfied: joblib>=1.1.1 in /home/alina/anaconda3/envs/mlops_zoomcamp/lib/python3.9/site-packages (from scikit-learn) (1.2.0)\n",
      "Requirement already satisfied: setuptools in /home/alina/anaconda3/envs/mlops_zoomcamp/lib/python3.9/site-packages (from wandb) (66.0.0)\n",
      "Requirement already satisfied: docker-pycreds>=0.4.0 in /home/alina/anaconda3/envs/mlops_zoomcamp/lib/python3.9/site-packages (from wandb) (0.4.0)\n",
      "Requirement already satisfied: GitPython!=3.1.29,>=1.0.0 in /home/alina/anaconda3/envs/mlops_zoomcamp/lib/python3.9/site-packages (from wandb) (3.1.31)\n",
      "Requirement already satisfied: pathtools in /home/alina/anaconda3/envs/mlops_zoomcamp/lib/python3.9/site-packages (from wandb) (0.1.2)\n",
      "Requirement already satisfied: protobuf!=4.21.0,<5,>=3.15.0 in /home/alina/anaconda3/envs/mlops_zoomcamp/lib/python3.9/site-packages (from wandb) (4.23.2)\n",
      "Requirement already satisfied: Click!=8.0.0,>=7.0 in /home/alina/anaconda3/envs/mlops_zoomcamp/lib/python3.9/site-packages (from wandb) (8.1.3)\n",
      "Requirement already satisfied: PyYAML in /home/alina/anaconda3/envs/mlops_zoomcamp/lib/python3.9/site-packages (from wandb) (6.0)\n",
      "Requirement already satisfied: setproctitle in /home/alina/anaconda3/envs/mlops_zoomcamp/lib/python3.9/site-packages (from wandb) (1.3.2)\n",
      "Requirement already satisfied: requests<3,>=2.0.0 in /home/alina/anaconda3/envs/mlops_zoomcamp/lib/python3.9/site-packages (from wandb) (2.31.0)\n",
      "Requirement already satisfied: sentry-sdk>=1.0.0 in /home/alina/anaconda3/envs/mlops_zoomcamp/lib/python3.9/site-packages (from wandb) (1.25.0)\n",
      "Requirement already satisfied: typing-extensions in /home/alina/anaconda3/envs/mlops_zoomcamp/lib/python3.9/site-packages (from wandb) (4.6.2)\n",
      "Requirement already satisfied: psutil>=5.0.0 in /home/alina/anaconda3/envs/mlops_zoomcamp/lib/python3.9/site-packages (from wandb) (5.9.5)\n",
      "Requirement already satisfied: appdirs>=1.4.3 in /home/alina/anaconda3/envs/mlops_zoomcamp/lib/python3.9/site-packages (from wandb) (1.4.4)\n",
      "Requirement already satisfied: six>=1.4.0 in /home/alina/anaconda3/envs/mlops_zoomcamp/lib/python3.9/site-packages (from docker-pycreds>=0.4.0->wandb) (1.16.0)\n",
      "Requirement already satisfied: gitdb<5,>=4.0.1 in /home/alina/anaconda3/envs/mlops_zoomcamp/lib/python3.9/site-packages (from GitPython!=3.1.29,>=1.0.0->wandb) (4.0.10)\n",
      "Requirement already satisfied: zipp>=3.1.0 in /home/alina/anaconda3/envs/mlops_zoomcamp/lib/python3.9/site-packages (from importlib-resources>=3.2.0->matplotlib) (3.15.0)\n",
      "Requirement already satisfied: charset-normalizer<4,>=2 in /home/alina/anaconda3/envs/mlops_zoomcamp/lib/python3.9/site-packages (from requests<3,>=2.0.0->wandb) (3.1.0)\n",
      "Requirement already satisfied: urllib3<3,>=1.21.1 in /home/alina/anaconda3/envs/mlops_zoomcamp/lib/python3.9/site-packages (from requests<3,>=2.0.0->wandb) (1.26.16)\n",
      "Requirement already satisfied: idna<4,>=2.5 in /home/alina/anaconda3/envs/mlops_zoomcamp/lib/python3.9/site-packages (from requests<3,>=2.0.0->wandb) (3.4)\n",
      "Requirement already satisfied: certifi>=2017.4.17 in /home/alina/anaconda3/envs/mlops_zoomcamp/lib/python3.9/site-packages (from requests<3,>=2.0.0->wandb) (2023.5.7)\n",
      "Requirement already satisfied: smmap<6,>=3.0.1 in /home/alina/anaconda3/envs/mlops_zoomcamp/lib/python3.9/site-packages (from gitdb<5,>=4.0.1->GitPython!=3.1.29,>=1.0.0->wandb) (5.0.0)\n",
      "wandb, version 0.15.3\n"
     ]
    }
   ],
   "source": [
    "%%bash\n",
    "\n",
    "pip install pandas matplotlib scikit-learn pyarrow wandb\n",
    "wandb --version"
   ]
  },
  {
   "attachments": {},
   "cell_type": "markdown",
   "metadata": {},
   "source": [
    "### Q2"
   ]
  },
  {
   "cell_type": "code",
   "execution_count": 1,
   "metadata": {},
   "outputs": [
    {
     "name": "stderr",
     "output_type": "stream",
     "text": [
      "/tmp/ipykernel_960490/3617935310.py:4: UnsafeLoaderWarning: \n",
      "The default 'Loader' for 'load(stream)' without further arguments can be unsafe.\n",
      "Use 'load(stream, Loader=ruamel.yaml.Loader)' explicitly if that is OK.\n",
      "Alternatively include the following in your code:\n",
      "\n",
      "  import warnings\n",
      "  warnings.simplefilter('ignore', ruamel.yaml.error.UnsafeLoaderWarning)\n",
      "\n",
      "In most other cases you should consider using 'safe_load(stream)'\n",
      "  DEFAULT_PARAMS = YAML.load(f)\n"
     ]
    },
    {
     "data": {
      "text/plain": [
       "{'project_name': 'mlops-zoomcamp-hw2',\n",
       " 'data_folder': 'data',\n",
       " 'output_folder': 'output',\n",
       " 'entity': 'ayeffkay',\n",
       " 'dict_vectorizer_name': 'dv.pkl',\n",
       " 'artifact_name': 'NYC-Taxi',\n",
       " 'train_artifact_name': 'NYC-Taxi-train',\n",
       " 'model_file': 'regressor.pkl'}"
      ]
     },
     "execution_count": 1,
     "metadata": {},
     "output_type": "execute_result"
    }
   ],
   "source": [
    "import ruamel.yaml as YAML\n",
    "\n",
    "with open(\"config.yaml\") as f:\n",
    "    DEFAULT_PARAMS = YAML.load(f)\n",
    "DEFAULT_PARAMS"
   ]
  },
  {
   "cell_type": "code",
   "execution_count": 2,
   "metadata": {},
   "outputs": [],
   "source": [
    "DF = DEFAULT_PARAMS['data_folder']\n",
    "PN = DEFAULT_PARAMS['project_name']\n",
    "ENT = DEFAULT_PARAMS['entity']\n",
    "OUT = DEFAULT_PARAMS['output_folder']\n",
    "AN = DEFAULT_PARAMS['artifact_name']\n",
    "TAN = DEFAULT_PARAMS['train_artifact_name']\n",
    "DV = DEFAULT_PARAMS['dict_vectorizer_name']"
   ]
  },
  {
   "cell_type": "code",
   "execution_count": 3,
   "metadata": {},
   "outputs": [
    {
     "name": "stderr",
     "output_type": "stream",
     "text": [
      "--2023-06-04 23:09:15--  https://d37ci6vzurychx.cloudfront.net/trip-data/green_tripdata_2022-01.parquet\n",
      "Resolving d37ci6vzurychx.cloudfront.net (d37ci6vzurychx.cloudfront.net)... 65.9.50.8, 65.9.50.89, 65.9.50.44, ...\n",
      "Connecting to d37ci6vzurychx.cloudfront.net (d37ci6vzurychx.cloudfront.net)|65.9.50.8|:443... connected.\n",
      "HTTP request sent, awaiting response... 200 OK\n",
      "Length: 1254291 (1.2M) [binary/octet-stream]\n",
      "Saving to: ‘data/green_tripdata_2022-01.parquet.2’\n",
      "\n",
      "     0K .......... .......... .......... .......... ..........  4% 1.53M 1s\n",
      "    50K .......... .......... .......... .......... ..........  8% 2.12M 1s\n",
      "   100K .......... .......... .......... .......... .......... 12% 3.50M 0s\n",
      "   150K .......... .......... .......... .......... .......... 16% 8.62M 0s\n",
      "   200K .......... .......... .......... .......... .......... 20% 4.74M 0s\n",
      "   250K .......... .......... .......... .......... .......... 24% 7.01M 0s\n",
      "   300K .......... .......... .......... .......... .......... 28% 4.21M 0s\n",
      "   350K .......... .......... .......... .......... .......... 32% 9.02M 0s\n",
      "   400K .......... .......... .......... .......... .......... 36% 12.0M 0s\n",
      "   450K .......... .......... .......... .......... .......... 40% 4.33M 0s\n",
      "   500K .......... .......... .......... .......... .......... 44% 12.2M 0s\n",
      "   550K .......... .......... .......... .......... .......... 48% 13.7M 0s\n",
      "   600K .......... .......... .......... .......... .......... 53% 9.03M 0s\n",
      "   650K .......... .......... .......... .......... .......... 57% 1.42M 0s\n",
      "   700K .......... .......... .......... .......... .......... 61%  488M 0s\n",
      "   750K .......... .......... .......... .......... .......... 65%  104M 0s\n",
      "   800K .......... .......... .......... .......... .......... 69% 8.36M 0s\n",
      "   850K .......... .......... .......... .......... .......... 73% 20.0M 0s\n",
      "   900K .......... .......... .......... .......... .......... 77% 36.8M 0s\n",
      "   950K .......... .......... .......... .......... .......... 81% 11.5M 0s\n",
      "  1000K .......... .......... .......... .......... .......... 85% 67.1M 0s\n",
      "  1050K .......... .......... .......... .......... .......... 89% 29.1M 0s\n",
      "  1100K .......... .......... .......... .......... .......... 93% 21.6M 0s\n",
      "  1150K .......... .......... .......... .......... .......... 97% 28.2M 0s\n",
      "  1200K .......... .......... ....                            100% 23.3M=0.2s\n",
      "\n",
      "2023-06-04 23:09:16 (6.19 MB/s) - ‘data/green_tripdata_2022-01.parquet.2’ saved [1254291/1254291]\n",
      "\n",
      "--2023-06-04 23:09:16--  https://d37ci6vzurychx.cloudfront.net/trip-data/green_tripdata_2022-02.parquet\n",
      "Resolving d37ci6vzurychx.cloudfront.net (d37ci6vzurychx.cloudfront.net)... 65.9.50.123, 65.9.50.44, 65.9.50.89, ...\n",
      "Connecting to d37ci6vzurychx.cloudfront.net (d37ci6vzurychx.cloudfront.net)|65.9.50.123|:443... connected.\n",
      "HTTP request sent, awaiting response... 200 OK\n",
      "Length: 1428262 (1.4M) [binary/octet-stream]\n",
      "Saving to: ‘data/green_tripdata_2022-02.parquet.2’\n",
      "\n",
      "     0K .......... .......... .......... .......... ..........  3% 1.54M 1s\n",
      "    50K .......... .......... .......... .......... ..........  7% 2.10M 1s\n",
      "   100K .......... .......... .......... .......... .......... 10% 4.44M 1s\n",
      "   150K .......... .......... .......... .......... .......... 14% 4.57M 0s\n",
      "   200K .......... .......... .......... .......... .......... 17% 6.50M 0s\n",
      "   250K .......... .......... .......... .......... .......... 21% 6.87M 0s\n",
      "   300K .......... .......... .......... .......... .......... 25% 5.71M 0s\n",
      "   350K .......... .......... .......... .......... .......... 28% 7.33M 0s\n",
      "   400K .......... .......... .......... .......... .......... 32% 11.3M 0s\n",
      "   450K .......... .......... .......... .......... .......... 35% 3.55M 0s\n",
      "   500K .......... .......... .......... .......... .......... 39% 10.2M 0s\n",
      "   550K .......... .......... .......... .......... .......... 43% 13.2M 0s\n",
      "   600K .......... .......... .......... .......... .......... 46%  779K 0s\n",
      "   650K .......... .......... .......... .......... .......... 50%  100M 0s\n",
      "   700K .......... .......... .......... .......... .......... 53%  360M 0s\n",
      "   750K .......... .......... .......... .......... .......... 57%  393M 0s\n",
      "   800K .......... .......... .......... .......... .......... 60%  302M 0s\n",
      "   850K .......... .......... .......... .......... .......... 64%  286M 0s\n",
      "   900K .......... .......... .......... .......... .......... 68%  439M 0s\n",
      "   950K .......... .......... .......... .......... .......... 71% 1.77M 0s\n",
      "  1000K .......... .......... .......... .......... .......... 75%  480M 0s\n",
      "  1050K .......... .......... .......... .......... .......... 78% 17.5M 0s\n",
      "  1100K .......... .......... .......... .......... .......... 82%  130K 0s\n",
      "  1150K .......... .......... .......... .......... .......... 86%  144M 0s\n",
      "  1200K .......... .......... .......... .......... .......... 89%  238M 0s\n",
      "  1250K .......... .......... .......... .......... .......... 93%  218M 0s\n",
      "  1300K .......... .......... .......... .......... .......... 96%  192M 0s\n",
      "  1350K .......... .......... .......... .......... ....      100%  264M=0.6s\n",
      "\n",
      "2023-06-04 23:09:16 (2.21 MB/s) - ‘data/green_tripdata_2022-02.parquet.2’ saved [1428262/1428262]\n",
      "\n",
      "--2023-06-04 23:09:16--  https://d37ci6vzurychx.cloudfront.net/trip-data/green_tripdata_2022-03.parquet\n",
      "Resolving d37ci6vzurychx.cloudfront.net (d37ci6vzurychx.cloudfront.net)... 65.9.50.123, 65.9.50.44, 65.9.50.89, ...\n",
      "Connecting to d37ci6vzurychx.cloudfront.net (d37ci6vzurychx.cloudfront.net)|65.9.50.123|:443... connected.\n",
      "HTTP request sent, awaiting response... 200 OK\n",
      "Length: 1615562 (1.5M) [binary/octet-stream]\n",
      "Saving to: ‘data/green_tripdata_2022-03.parquet.2’\n",
      "\n",
      "     0K .......... .......... .......... .......... ..........  3% 1.79M 1s\n",
      "    50K .......... .......... .......... .......... ..........  6% 2.72M 1s\n",
      "   100K .......... .......... .......... .......... ..........  9% 5.52M 1s\n",
      "   150K .......... .......... .......... .......... .......... 12% 4.70M 0s\n",
      "   200K .......... .......... .......... .......... .......... 15% 7.55M 0s\n",
      "   250K .......... .......... .......... .......... .......... 19% 7.60M 0s\n",
      "   300K .......... .......... .......... .......... .......... 22% 12.8M 0s\n",
      "   350K .......... .......... .......... .......... .......... 25% 11.0M 0s\n",
      "   400K .......... .......... .......... .......... .......... 28% 9.38M 0s\n",
      "   450K .......... .......... .......... .......... .......... 31% 11.9M 0s\n",
      "   500K .......... .......... .......... .......... .......... 34% 5.62M 0s\n",
      "   550K .......... .......... .......... .......... .......... 38% 1.58M 0s\n",
      "   600K .......... .......... .......... .......... .......... 41% 1.09M 0s\n",
      "   650K .......... .......... .......... .......... .......... 44% 74.9M 0s\n",
      "   700K .......... .......... .......... .......... .......... 47%  405M 0s\n",
      "   750K .......... .......... .......... .......... .......... 50%  546M 0s\n",
      "   800K .......... .......... .......... .......... .......... 53%  585M 0s\n",
      "   850K .......... .......... .......... .......... .......... 57%  576M 0s\n",
      "   900K .......... .......... .......... .......... .......... 60% 1.51M 0s\n",
      "   950K .......... .......... .......... .......... .......... 63% 34.7M 0s\n",
      "  1000K .......... .......... .......... .......... .......... 66%  138M 0s\n",
      "  1050K .......... .......... .......... .......... .......... 69% 95.1M 0s\n",
      "  1100K .......... .......... .......... .......... .......... 72%  458M 0s\n",
      "  1150K .......... .......... .......... .......... .......... 76%  490M 0s\n",
      "  1200K .......... .......... .......... .......... .......... 79%  400M 0s\n",
      "  1250K .......... .......... .......... .......... .......... 82%  505M 0s\n",
      "  1300K .......... .......... .......... .......... .......... 85% 29.4M 0s\n",
      "  1350K .......... .......... .......... .......... .......... 88% 21.3M 0s\n",
      "  1400K .......... .......... .......... .......... .......... 91% 35.4M 0s\n",
      "  1450K .......... .......... .......... .......... .......... 95%  616M 0s\n",
      "  1500K .......... .......... .......... .......... .......... 98%  708M 0s\n",
      "  1550K .......... .......... .......                         100%  773M=0.2s\n",
      "\n",
      "2023-06-04 23:09:17 (6.97 MB/s) - ‘data/green_tripdata_2022-03.parquet.2’ saved [1615562/1615562]\n",
      "\n",
      "/home/alina/mlops-zoomcamp/cohorts/2023/02-experiment-tracking/homework-wandb/preprocess_data.py:12: UnsafeLoaderWarning: \n",
      "The default 'Loader' for 'load(stream)' without further arguments can be unsafe.\n",
      "Use 'load(stream, Loader=ruamel.yaml.Loader)' explicitly if that is OK.\n",
      "Alternatively include the following in your code:\n",
      "\n",
      "  import warnings\n",
      "  warnings.simplefilter('ignore', ruamel.yaml.error.UnsafeLoaderWarning)\n",
      "\n",
      "In most other cases you should consider using 'safe_load(stream)'\n",
      "  DEFAULT_PARAMS = YAML.load(f)\n",
      "wandb: Currently logged in as: ayeffkay. Use `wandb login --relogin` to force relogin\n",
      "wandb: Tracking run with wandb version 0.15.3\n",
      "wandb: Run data is saved locally in /home/alina/mlops-zoomcamp/cohorts/2023/02-experiment-tracking/homework-wandb/wandb/run-20230604_230919-2pgp6zhw\n",
      "wandb: Run `wandb offline` to turn off syncing.\n",
      "wandb: Syncing run cerulean-water-4\n",
      "wandb: ⭐️ View project at https://wandb.ai/ayeffkay/mlops-zoomcamp-hw2\n",
      "wandb: 🚀 View run at https://wandb.ai/ayeffkay/mlops-zoomcamp-hw2/runs/2pgp6zhw\n",
      "wandb: Adding directory to artifact (./output)... Done. 0.0s\n",
      "wandb: Waiting for W&B process to finish... (success).\n",
      "wandb: 🚀 View run cerulean-water-4 at: https://wandb.ai/ayeffkay/mlops-zoomcamp-hw2/runs/2pgp6zhw\n",
      "wandb: Synced 7 W&B file(s), 0 media file(s), 7 artifact file(s) and 1 other file(s)\n",
      "wandb: Find logs at: ./wandb/run-20230604_230919-2pgp6zhw/logs\n"
     ]
    }
   ],
   "source": [
    "%%bash -s \"$DF\" \"$PN\" \"$ENT\" \"$OUT\"\n",
    "\n",
    "wget https://d37ci6vzurychx.cloudfront.net/trip-data/green_tripdata_2022-01.parquet -P $1\n",
    "wget https://d37ci6vzurychx.cloudfront.net/trip-data/green_tripdata_2022-02.parquet -P $1\n",
    "wget https://d37ci6vzurychx.cloudfront.net/trip-data/green_tripdata_2022-03.parquet -P $1\n",
    "\n",
    "python preprocess_data.py \\\n",
    "  --wandb_project $2 \\\n",
    "  --wandb_entity $3 \\\n",
    "  --raw_data_path $1 \\\n",
    "  --dest_path $4"
   ]
  },
  {
   "cell_type": "code",
   "execution_count": 4,
   "metadata": {},
   "outputs": [
    {
     "name": "stderr",
     "output_type": "stream",
     "text": [
      "Failed to detect the name of this notebook, you can set it manually with the WANDB_NOTEBOOK_NAME environment variable to enable code saving.\n",
      "\u001b[34m\u001b[1mwandb\u001b[0m: Currently logged in as: \u001b[33mayeffkay\u001b[0m. Use \u001b[1m`wandb login --relogin`\u001b[0m to force relogin\n"
     ]
    },
    {
     "data": {
      "text/html": [
       "Tracking run with wandb version 0.15.3"
      ],
      "text/plain": [
       "<IPython.core.display.HTML object>"
      ]
     },
     "metadata": {},
     "output_type": "display_data"
    },
    {
     "data": {
      "text/html": [
       "Run data is saved locally in <code>/home/alina/mlops-zoomcamp/cohorts/2023/02-experiment-tracking/homework-wandb/wandb/run-20230604_230959-8luu54de</code>"
      ],
      "text/plain": [
       "<IPython.core.display.HTML object>"
      ]
     },
     "metadata": {},
     "output_type": "display_data"
    },
    {
     "data": {
      "text/html": [
       "Syncing run <strong><a href='https://wandb.ai/ayeffkay/mlops-zoomcamp-hw2/runs/8luu54de' target=\"_blank\">driven-planet-5</a></strong> to <a href='https://wandb.ai/ayeffkay/mlops-zoomcamp-hw2' target=\"_blank\">Weights & Biases</a> (<a href='https://wandb.me/run' target=\"_blank\">docs</a>)<br/>"
      ],
      "text/plain": [
       "<IPython.core.display.HTML object>"
      ]
     },
     "metadata": {},
     "output_type": "display_data"
    },
    {
     "data": {
      "text/html": [
       " View project at <a href='https://wandb.ai/ayeffkay/mlops-zoomcamp-hw2' target=\"_blank\">https://wandb.ai/ayeffkay/mlops-zoomcamp-hw2</a>"
      ],
      "text/plain": [
       "<IPython.core.display.HTML object>"
      ]
     },
     "metadata": {},
     "output_type": "display_data"
    },
    {
     "data": {
      "text/html": [
       " View run at <a href='https://wandb.ai/ayeffkay/mlops-zoomcamp-hw2/runs/8luu54de' target=\"_blank\">https://wandb.ai/ayeffkay/mlops-zoomcamp-hw2/runs/8luu54de</a>"
      ],
      "text/plain": [
       "<IPython.core.display.HTML object>"
      ]
     },
     "metadata": {},
     "output_type": "display_data"
    },
    {
     "name": "stdout",
     "output_type": "stream",
     "text": [
      "DictVectorizer size is 150.05859375 KBytes\n"
     ]
    },
    {
     "data": {
      "text/html": [
       "Waiting for W&B process to finish... <strong style=\"color:green\">(success).</strong>"
      ],
      "text/plain": [
       "<IPython.core.display.HTML object>"
      ]
     },
     "metadata": {},
     "output_type": "display_data"
    },
    {
     "data": {
      "application/vnd.jupyter.widget-view+json": {
       "model_id": "29bd3fb9aef9470982c73e26151e67b0",
       "version_major": 2,
       "version_minor": 0
      },
      "text/plain": [
       "VBox(children=(Label(value='0.020 MB of 0.020 MB uploaded (0.000 MB deduped)\\r'), FloatProgress(value=1.0, max…"
      ]
     },
     "metadata": {},
     "output_type": "display_data"
    },
    {
     "data": {
      "text/html": [
       " View run <strong style=\"color:#cdcd00\">driven-planet-5</strong> at: <a href='https://wandb.ai/ayeffkay/mlops-zoomcamp-hw2/runs/8luu54de' target=\"_blank\">https://wandb.ai/ayeffkay/mlops-zoomcamp-hw2/runs/8luu54de</a><br/>Synced 7 W&B file(s), 0 media file(s), 0 artifact file(s) and 1 other file(s)"
      ],
      "text/plain": [
       "<IPython.core.display.HTML object>"
      ]
     },
     "metadata": {},
     "output_type": "display_data"
    },
    {
     "data": {
      "text/html": [
       "Find logs at: <code>./wandb/run-20230604_230959-8luu54de/logs</code>"
      ],
      "text/plain": [
       "<IPython.core.display.HTML object>"
      ]
     },
     "metadata": {},
     "output_type": "display_data"
    }
   ],
   "source": [
    "import os\n",
    "import wandb\n",
    "\n",
    "with wandb.init(project=PN, entity=ENT) as run:\n",
    "    artifact = run.use_artifact(f'{ENT}/{PN}/{AN}:v0', type='preprocessed_dataset')\n",
    "    dv_path = artifact.get_path(DV).download()\n",
    "    print(f'DictVectorizer size is {os.stat(dv_path).st_size / 1024} KBytes')"
   ]
  },
  {
   "attachments": {},
   "cell_type": "markdown",
   "metadata": {},
   "source": [
    "### Q3"
   ]
  },
  {
   "cell_type": "code",
   "execution_count": 5,
   "metadata": {},
   "outputs": [
    {
     "name": "stderr",
     "output_type": "stream",
     "text": [
      "/home/alina/mlops-zoomcamp/cohorts/2023/02-experiment-tracking/homework-wandb/preprocess_data.py:12: UnsafeLoaderWarning: \n",
      "The default 'Loader' for 'load(stream)' without further arguments can be unsafe.\n",
      "Use 'load(stream, Loader=ruamel.yaml.Loader)' explicitly if that is OK.\n",
      "Alternatively include the following in your code:\n",
      "\n",
      "  import warnings\n",
      "  warnings.simplefilter('ignore', ruamel.yaml.error.UnsafeLoaderWarning)\n",
      "\n",
      "In most other cases you should consider using 'safe_load(stream)'\n",
      "  DEFAULT_PARAMS = YAML.load(f)\n",
      "wandb: Currently logged in as: ayeffkay. Use `wandb login --relogin` to force relogin\n",
      "wandb: Tracking run with wandb version 0.15.3\n",
      "wandb: Run data is saved locally in /home/alina/mlops-zoomcamp/cohorts/2023/02-experiment-tracking/homework-wandb/wandb/run-20230604_231015-aauflazl\n",
      "wandb: Run `wandb offline` to turn off syncing.\n",
      "wandb: Syncing run faithful-sun-6\n",
      "wandb: ⭐️ View project at https://wandb.ai/ayeffkay/mlops-zoomcamp-hw2\n",
      "wandb: 🚀 View run at https://wandb.ai/ayeffkay/mlops-zoomcamp-hw2/runs/aauflazl\n",
      "wandb:   4 of 4 files downloaded.  \n",
      "wandb: Waiting for W&B process to finish... (success).\n",
      "wandb: \n",
      "wandb: Run history:\n",
      "wandb: MSE ▁\n",
      "wandb: \n",
      "wandb: Run summary:\n",
      "wandb: MSE 2.45398\n",
      "wandb: \n",
      "wandb: 🚀 View run faithful-sun-6 at: https://wandb.ai/ayeffkay/mlops-zoomcamp-hw2/runs/aauflazl\n",
      "wandb: Synced 7 W&B file(s), 0 media file(s), 4 artifact file(s) and 1 other file(s)\n",
      "wandb: Find logs at: ./wandb/run-20230604_231015-aauflazl/logs\n"
     ]
    }
   ],
   "source": [
    "%%bash -s \"$PN\" \"$ENT\" \"$AN\"\n",
    "\n",
    "python train.py \\\n",
    "  --wandb_project $1 \\\n",
    "  --wandb_entity $2 \\\n",
    "  --data_artifact \"$2/$1/$3:v0\""
   ]
  },
  {
   "cell_type": "code",
   "execution_count": 6,
   "metadata": {},
   "outputs": [
    {
     "data": {
      "text/plain": [
       "{'max_depth': 10, 'random_state': 0}"
      ]
     },
     "execution_count": 6,
     "metadata": {},
     "output_type": "execute_result"
    }
   ],
   "source": [
    "import wandb\n",
    "api = wandb.Api()\n",
    "run = api.run(\"mlops-zoomcamp-hw2/runs/aauflazl\")\n",
    "run.config\n"
   ]
  },
  {
   "attachments": {},
   "cell_type": "markdown",
   "metadata": {},
   "source": [
    "### Q4"
   ]
  },
  {
   "attachments": {},
   "cell_type": "markdown",
   "metadata": {},
   "source": [
    "See results here: https://api.wandb.ai/links/ayeffkay/ejokj6gc"
   ]
  },
  {
   "cell_type": "code",
   "execution_count": 8,
   "metadata": {},
   "outputs": [
    {
     "name": "stderr",
     "output_type": "stream",
     "text": [
      "/home/alina/mlops-zoomcamp/cohorts/2023/02-experiment-tracking/homework-wandb/preprocess_data.py:12: UnsafeLoaderWarning: \n",
      "The default 'Loader' for 'load(stream)' without further arguments can be unsafe.\n",
      "Use 'load(stream, Loader=ruamel.yaml.Loader)' explicitly if that is OK.\n",
      "Alternatively include the following in your code:\n",
      "\n",
      "  import warnings\n",
      "  warnings.simplefilter('ignore', ruamel.yaml.error.UnsafeLoaderWarning)\n",
      "\n",
      "In most other cases you should consider using 'safe_load(stream)'\n",
      "  DEFAULT_PARAMS = YAML.load(f)\n"
     ]
    },
    {
     "name": "stdout",
     "output_type": "stream",
     "text": [
      "Create sweep with ID: 70fma9ud\n",
      "Sweep URL: https://wandb.ai/ayeffkay/mlops-zoomcamp-hw2/sweeps/70fma9ud\n"
     ]
    },
    {
     "name": "stderr",
     "output_type": "stream",
     "text": [
      "wandb: Agent Starting Run: 3ugdlpwo with config:\n",
      "wandb: \tmax_depth: 7\n",
      "wandb: \tmin_samples_leaf: 2\n",
      "wandb: \tmin_samples_split: 3\n",
      "wandb: \tn_estimators: 41\n",
      "wandb: Currently logged in as: ayeffkay. Use `wandb login --relogin` to force relogin\n",
      "wandb: Tracking run with wandb version 0.15.3\n",
      "wandb: Run data is saved locally in /home/alina/mlops-zoomcamp/cohorts/2023/02-experiment-tracking/homework-wandb/wandb/run-20230604_231304-3ugdlpwo\n",
      "wandb: Run `wandb offline` to turn off syncing.\n",
      "wandb: Syncing run solar-sweep-1\n",
      "wandb: ⭐️ View project at https://wandb.ai/ayeffkay/mlops-zoomcamp-hw2\n",
      "wandb: 🧹 View sweep at https://wandb.ai/ayeffkay/mlops-zoomcamp-hw2/sweeps/70fma9ud\n",
      "wandb: 🚀 View run at https://wandb.ai/ayeffkay/mlops-zoomcamp-hw2/runs/3ugdlpwo\n",
      "wandb:   4 of 4 files downloaded.  \n",
      "wandb: Waiting for W&B process to finish... (success).\n",
      "wandb: \n",
      "wandb: Run history:\n",
      "wandb: MSE ▁\n",
      "wandb: \n",
      "wandb: Run summary:\n",
      "wandb: MSE 2.45289\n",
      "wandb: \n",
      "wandb: 🚀 View run solar-sweep-1 at: https://wandb.ai/ayeffkay/mlops-zoomcamp-hw2/runs/3ugdlpwo\n",
      "wandb: Synced 7 W&B file(s), 0 media file(s), 1 artifact file(s) and 1 other file(s)\n",
      "wandb: Find logs at: ./wandb/run-20230604_231304-3ugdlpwo/logs\n",
      "wandb: Agent Starting Run: wwtbemwx with config:\n",
      "wandb: \tmax_depth: 11\n",
      "wandb: \tmin_samples_leaf: 1\n",
      "wandb: \tmin_samples_split: 6\n",
      "wandb: \tn_estimators: 12\n",
      "wandb: Tracking run with wandb version 0.15.3\n",
      "wandb: Run data is saved locally in /home/alina/mlops-zoomcamp/cohorts/2023/02-experiment-tracking/homework-wandb/wandb/run-20230604_231320-wwtbemwx\n",
      "wandb: Run `wandb offline` to turn off syncing.\n",
      "wandb: Syncing run misunderstood-sweep-2\n",
      "wandb: ⭐️ View project at https://wandb.ai/ayeffkay/mlops-zoomcamp-hw2\n",
      "wandb: 🧹 View sweep at https://wandb.ai/ayeffkay/mlops-zoomcamp-hw2/sweeps/70fma9ud\n",
      "wandb: 🚀 View run at https://wandb.ai/ayeffkay/mlops-zoomcamp-hw2/runs/wwtbemwx\n",
      "wandb:   4 of 4 files downloaded.  \n",
      "wandb: Waiting for W&B process to finish... (success).\n",
      "wandb: \n",
      "wandb: Run history:\n",
      "wandb: MSE ▁\n",
      "wandb: \n",
      "wandb: Run summary:\n",
      "wandb: MSE 2.46639\n",
      "wandb: \n",
      "wandb: 🚀 View run misunderstood-sweep-2 at: https://wandb.ai/ayeffkay/mlops-zoomcamp-hw2/runs/wwtbemwx\n",
      "wandb: Synced 7 W&B file(s), 0 media file(s), 1 artifact file(s) and 1 other file(s)\n",
      "wandb: Find logs at: ./wandb/run-20230604_231320-wwtbemwx/logs\n",
      "wandb: Agent Starting Run: tj9fuov1 with config:\n",
      "wandb: \tmax_depth: 17\n",
      "wandb: \tmin_samples_leaf: 2\n",
      "wandb: \tmin_samples_split: 10\n",
      "wandb: \tn_estimators: 34\n",
      "wandb: Tracking run with wandb version 0.15.3\n",
      "wandb: Run data is saved locally in /home/alina/mlops-zoomcamp/cohorts/2023/02-experiment-tracking/homework-wandb/wandb/run-20230604_231337-tj9fuov1\n",
      "wandb: Run `wandb offline` to turn off syncing.\n",
      "wandb: Syncing run likely-sweep-3\n",
      "wandb: ⭐️ View project at https://wandb.ai/ayeffkay/mlops-zoomcamp-hw2\n",
      "wandb: 🧹 View sweep at https://wandb.ai/ayeffkay/mlops-zoomcamp-hw2/sweeps/70fma9ud\n",
      "wandb: 🚀 View run at https://wandb.ai/ayeffkay/mlops-zoomcamp-hw2/runs/tj9fuov1\n",
      "wandb:   4 of 4 files downloaded.  \n",
      "wandb: Waiting for W&B process to finish... (success).\n",
      "wandb: \n",
      "wandb: Run history:\n",
      "wandb: MSE ▁\n",
      "wandb: \n",
      "wandb: Run summary:\n",
      "wandb: MSE 2.44819\n",
      "wandb: \n",
      "wandb: 🚀 View run likely-sweep-3 at: https://wandb.ai/ayeffkay/mlops-zoomcamp-hw2/runs/tj9fuov1\n",
      "wandb: Synced 7 W&B file(s), 0 media file(s), 1 artifact file(s) and 1 other file(s)\n",
      "wandb: Find logs at: ./wandb/run-20230604_231337-tj9fuov1/logs\n",
      "wandb: Agent Starting Run: 5tuc809z with config:\n",
      "wandb: \tmax_depth: 18\n",
      "wandb: \tmin_samples_leaf: 3\n",
      "wandb: \tmin_samples_split: 10\n",
      "wandb: \tn_estimators: 33\n",
      "wandb: Tracking run with wandb version 0.15.3\n",
      "wandb: Run data is saved locally in /home/alina/mlops-zoomcamp/cohorts/2023/02-experiment-tracking/homework-wandb/wandb/run-20230604_231359-5tuc809z\n",
      "wandb: Run `wandb offline` to turn off syncing.\n",
      "wandb: Syncing run summer-sweep-4\n",
      "wandb: ⭐️ View project at https://wandb.ai/ayeffkay/mlops-zoomcamp-hw2\n",
      "wandb: 🧹 View sweep at https://wandb.ai/ayeffkay/mlops-zoomcamp-hw2/sweeps/70fma9ud\n",
      "wandb: 🚀 View run at https://wandb.ai/ayeffkay/mlops-zoomcamp-hw2/runs/5tuc809z\n",
      "wandb:   4 of 4 files downloaded.  \n",
      "wandb: Waiting for W&B process to finish... (success).\n",
      "wandb: \n",
      "wandb: Run history:\n",
      "wandb: MSE ▁\n",
      "wandb: \n",
      "wandb: Run summary:\n",
      "wandb: MSE 2.4467\n",
      "wandb: \n",
      "wandb: 🚀 View run summer-sweep-4 at: https://wandb.ai/ayeffkay/mlops-zoomcamp-hw2/runs/5tuc809z\n",
      "wandb: Synced 7 W&B file(s), 0 media file(s), 1 artifact file(s) and 1 other file(s)\n",
      "wandb: Find logs at: ./wandb/run-20230604_231359-5tuc809z/logs\n",
      "wandb: Agent Starting Run: bj8zobgw with config:\n",
      "wandb: \tmax_depth: 16\n",
      "wandb: \tmin_samples_leaf: 4\n",
      "wandb: \tmin_samples_split: 10\n",
      "wandb: \tn_estimators: 43\n",
      "wandb: Tracking run with wandb version 0.15.3\n",
      "wandb: Run data is saved locally in /home/alina/mlops-zoomcamp/cohorts/2023/02-experiment-tracking/homework-wandb/wandb/run-20230604_231420-bj8zobgw\n",
      "wandb: Run `wandb offline` to turn off syncing.\n",
      "wandb: Syncing run clean-sweep-5\n",
      "wandb: ⭐️ View project at https://wandb.ai/ayeffkay/mlops-zoomcamp-hw2\n",
      "wandb: 🧹 View sweep at https://wandb.ai/ayeffkay/mlops-zoomcamp-hw2/sweeps/70fma9ud\n",
      "wandb: 🚀 View run at https://wandb.ai/ayeffkay/mlops-zoomcamp-hw2/runs/bj8zobgw\n",
      "wandb:   4 of 4 files downloaded.  \n",
      "wandb: Waiting for W&B process to finish... (success).\n",
      "wandb: \n",
      "wandb: Run history:\n",
      "wandb: MSE ▁\n",
      "wandb: \n",
      "wandb: Run summary:\n",
      "wandb: MSE 2.44819\n",
      "wandb: \n",
      "wandb: 🚀 View run clean-sweep-5 at: https://wandb.ai/ayeffkay/mlops-zoomcamp-hw2/runs/bj8zobgw\n",
      "wandb: Synced 7 W&B file(s), 0 media file(s), 1 artifact file(s) and 1 other file(s)\n",
      "wandb: Find logs at: ./wandb/run-20230604_231420-bj8zobgw/logs\n"
     ]
    }
   ],
   "source": [
    "%%bash -s \"$PN\" \"$ENT\" \"$AN\"\n",
    "\n",
    "python sweep.py \\\n",
    "  --wandb_project $1 \\\n",
    "  --wandb_entity $2 \\\n",
    "  --data_artifact \"$2/$1/$3:v0\""
   ]
  },
  {
   "attachments": {},
   "cell_type": "markdown",
   "metadata": {},
   "source": [
    "### Q5"
   ]
  },
  {
   "cell_type": "code",
   "execution_count": 28,
   "metadata": {},
   "outputs": [
    {
     "data": {
      "text/plain": [
       "True"
      ]
     },
     "execution_count": 28,
     "metadata": {},
     "output_type": "execute_result"
    }
   ],
   "source": [
    "import wandb\n",
    "api = wandb.Api()\n",
    "best_run = next(iter(api.runs(path=f\"{ENT}/{PN}\", order=\"+summary_metrics.MSE\", filters={\"display_name\": {\"$regex\": \".*-sweep-.*\"}})))\n",
    "best_model_artifact = [artifact for artifact in best_run.logged_artifacts() if 'model' in artifact.full_name][0]\n",
    "best_model_artifact.link(f\"{ENT}/{PN}/production\")"
   ]
  },
  {
   "cell_type": "code",
   "execution_count": 31,
   "metadata": {},
   "outputs": [],
   "source": [
    "production_artifact = api.artifact(f\"{ENT}/{PN}/production:v0\")"
   ]
  },
  {
   "cell_type": "code",
   "execution_count": 46,
   "metadata": {},
   "outputs": [
    {
     "data": {
      "text/plain": [
       "({}, 'v0', ['latest'])"
      ]
     },
     "execution_count": 46,
     "metadata": {},
     "output_type": "execute_result"
    }
   ],
   "source": [
    "production_artifact.metadata, production_artifact.source_version, production_artifact.aliases"
   ]
  },
  {
   "cell_type": "code",
   "execution_count": 1,
   "metadata": {},
   "outputs": [
    {
     "data": {
      "image/png": "[encoded data removed]",
      "text/plain": [
       "<wand.image.Image: f1f4a85 'PDF' (1210x174)>"
      ]
     },
     "execution_count": 1,
     "metadata": {},
     "output_type": "execute_result"
    }
   ],
   "source": [
    "from wand.image import Image as WImage\n",
    "img = WImage(filename='registry.pdf')\n",
    "img"
   ]
  }
 ],
 "metadata": {
  "kernelspec": {
   "display_name": "mlops_zoomcamp",
   "language": "python",
   "name": "python3"
  },
  "language_info": {
   "codemirror_mode": {
    "name": "ipython",
    "version": 3
   },
   "file_extension": ".py",
   "mimetype": "text/x-python",
   "name": "python",
   "nbconvert_exporter": "python",
   "pygments_lexer": "ipython3",
   "version": "3.9.16"
  },
  "orig_nbformat": 4
 },
 "nbformat": 4,
 "nbformat_minor": 2
}
