{
 "cells": [
  {
   "attachments": {},
   "cell_type": "markdown",
   "metadata": {},
   "source": [
    "### Q1"
   ]
  },
  {
   "cell_type": "code",
   "execution_count": 1,
   "metadata": {},
   "outputs": [
    {
     "name": "stdout",
     "output_type": "stream",
     "text": [
      "mlflow, version 2.3.2\n"
     ]
    }
   ],
   "source": [
    "!mlflow --version"
   ]
  },
  {
   "attachments": {},
   "cell_type": "markdown",
   "metadata": {},
   "source": [
    "### Q2"
   ]
  },
  {
   "cell_type": "code",
   "execution_count": 2,
   "metadata": {},
   "outputs": [
    {
     "name": "stderr",
     "output_type": "stream",
     "text": [
      "--2023-05-30 09:18:53--  https://d37ci6vzurychx.cloudfront.net/trip-data/green_tripdata_2022-01.parquet\n",
      "Resolving d37ci6vzurychx.cloudfront.net (d37ci6vzurychx.cloudfront.net)... 13.33.244.13, 13.33.244.164, 13.33.244.127, ...\n",
      "Connecting to d37ci6vzurychx.cloudfront.net (d37ci6vzurychx.cloudfront.net)|13.33.244.13|:443... connected.\n",
      "HTTP request sent, awaiting response... 200 OK\n",
      "Length: 1254291 (1.2M) [binary/octet-stream]\n",
      "Saving to: ‘data/green_tripdata_2022-01.parquet’\n",
      "\n",
      "     0K .......... .......... .......... .......... ..........  4% 2.25M 1s\n",
      "    50K .......... .......... .......... .......... ..........  8% 2.77M 0s\n",
      "   100K .......... .......... .......... .......... .......... 12% 4.49M 0s\n",
      "   150K .......... .......... .......... .......... .......... 16% 5.80M 0s\n",
      "   200K .......... .......... .......... .......... .......... 20% 6.89M 0s\n",
      "   250K .......... .......... .......... .......... .......... 24% 11.8M 0s\n",
      "   300K .......... .......... .......... .......... .......... 28% 4.97M 0s\n",
      "   350K .......... .......... .......... .......... .......... 32%  272M 0s\n",
      "   400K .......... .......... .......... .......... .......... 36% 10.7M 0s\n",
      "   450K .......... .......... .......... .......... .......... 40% 1.45M 0s\n",
      "   500K .......... .......... .......... .......... .......... 44% 2.28M 0s\n",
      "   550K .......... .......... .......... .......... .......... 48% 22.6M 0s\n",
      "   600K .......... .......... .......... .......... .......... 53% 2.16M 0s\n",
      "   650K .......... .......... .......... .......... .......... 57%  184M 0s\n",
      "   700K .......... .......... .......... .......... .......... 61%  274M 0s\n",
      "   750K .......... .......... .......... .......... .......... 65%  237M 0s\n",
      "   800K .......... .......... .......... .......... .......... 69%  223M 0s\n",
      "   850K .......... .......... .......... .......... .......... 73%  203M 0s\n",
      "   900K .......... .......... .......... .......... .......... 77%  345M 0s\n",
      "   950K .......... .......... .......... .......... .......... 81%  347M 0s\n",
      "  1000K .......... .......... .......... .......... .......... 85%  254M 0s\n",
      "  1050K .......... .......... .......... .......... .......... 89%  283M 0s\n",
      "  1100K .......... .......... .......... .......... .......... 93% 50.4M 0s\n",
      "  1150K .......... .......... .......... .......... .......... 97% 20.2M 0s\n",
      "  1200K .......... .......... ....                            100% 2.13M=0.2s\n",
      "\n",
      "2023-05-30 09:18:53 (6.61 MB/s) - ‘data/green_tripdata_2022-01.parquet’ saved [1254291/1254291]\n",
      "\n",
      "--2023-05-30 09:18:53--  https://d37ci6vzurychx.cloudfront.net/trip-data/green_tripdata_2022-02.parquet\n",
      "Resolving d37ci6vzurychx.cloudfront.net (d37ci6vzurychx.cloudfront.net)... 13.33.244.91, 13.33.244.127, 13.33.244.164, ...\n",
      "Connecting to d37ci6vzurychx.cloudfront.net (d37ci6vzurychx.cloudfront.net)|13.33.244.91|:443... connected.\n",
      "HTTP request sent, awaiting response... 200 OK\n",
      "Length: 1428262 (1.4M) [binary/octet-stream]\n",
      "Saving to: ‘data/green_tripdata_2022-02.parquet’\n",
      "\n",
      "     0K .......... .......... .......... .......... ..........  3% 1.17M 1s\n",
      "    50K .......... .......... .......... .......... ..........  7% 2.89M 1s\n",
      "   100K .......... .......... .......... .......... .......... 10% 5.25M 1s\n",
      "   150K .......... .......... .......... .......... .......... 14% 9.05M 0s\n",
      "   200K .......... .......... .......... .......... .......... 17% 5.50M 0s\n",
      "   250K .......... .......... .......... .......... .......... 21% 8.19M 0s\n",
      "   300K .......... .......... .......... .......... .......... 25% 4.21M 0s\n",
      "   350K .......... .......... .......... .......... .......... 28% 18.1M 0s\n",
      "   400K .......... .......... .......... .......... .......... 32% 7.60M 0s\n",
      "   450K .......... .......... .......... .......... .......... 35% 1.85M 0s\n",
      "   500K .......... .......... .......... .......... .......... 39% 35.8M 0s\n",
      "   550K .......... .......... .......... .......... .......... 43% 2.04M 0s\n",
      "   600K .......... .......... .......... .......... .......... 46% 53.4M 0s\n",
      "   650K .......... .......... .......... .......... .......... 50%  262M 0s\n",
      "   700K .......... .......... .......... .......... .......... 53%  542M 0s\n",
      "   750K .......... .......... .......... .......... .......... 57%  579M 0s\n",
      "   800K .......... .......... .......... .......... .......... 60%  566M 0s\n",
      "   850K .......... .......... .......... .......... .......... 64%  617M 0s\n",
      "   900K .......... .......... .......... .......... .......... 68%  522M 0s\n",
      "   950K .......... .......... .......... .......... .......... 71%  377K 0s\n",
      "  1000K .......... .......... .......... .......... .......... 75%  173M 0s\n",
      "  1050K .......... .......... .......... .......... .......... 78%  144M 0s\n",
      "  1100K .......... .......... .......... .......... .......... 82%  219M 0s\n",
      "  1150K .......... .......... .......... .......... .......... 86%  172M 0s\n",
      "  1200K .......... .......... .......... .......... .......... 89%  219M 0s\n",
      "  1250K .......... .......... .......... .......... .......... 93% 1.74M 0s\n",
      "  1300K .......... .......... .......... .......... .......... 96% 11.4M 0s\n",
      "  1350K .......... .......... .......... .......... ....      100% 33.1M=0.3s\n",
      "\n",
      "2023-05-30 09:18:54 (4.13 MB/s) - ‘data/green_tripdata_2022-02.parquet’ saved [1428262/1428262]\n",
      "\n",
      "--2023-05-30 09:18:54--  https://d37ci6vzurychx.cloudfront.net/trip-data/green_tripdata_2022-03.parquet\n",
      "Resolving d37ci6vzurychx.cloudfront.net (d37ci6vzurychx.cloudfront.net)... 13.33.244.91, 13.33.244.127, 13.33.244.164, ...\n",
      "Connecting to d37ci6vzurychx.cloudfront.net (d37ci6vzurychx.cloudfront.net)|13.33.244.91|:443... connected.\n",
      "HTTP request sent, awaiting response... 200 OK\n",
      "Length: 1615562 (1.5M) [binary/octet-stream]\n",
      "Saving to: ‘data/green_tripdata_2022-03.parquet’\n",
      "\n",
      "     0K .......... .......... .......... .......... ..........  3% 1.65M 1s\n",
      "    50K .......... .......... .......... .......... ..........  6% 2.60M 1s\n",
      "   100K .......... .......... .......... .......... ..........  9% 5.97M 1s\n",
      "   150K .......... .......... .......... .......... .......... 12% 7.45M 0s\n",
      "   200K .......... .......... .......... .......... .......... 15% 5.15M 0s\n",
      "   250K .......... .......... .......... .......... .......... 19% 9.64M 0s\n",
      "   300K .......... .......... .......... .......... .......... 22% 2.88M 0s\n",
      "   350K .......... .......... .......... .......... .......... 25% 18.2M 0s\n",
      "   400K .......... .......... .......... .......... .......... 28%  990K 0s\n",
      "   450K .......... .......... .......... .......... .......... 31% 68.6M 0s\n",
      "   500K .......... .......... .......... .......... .......... 34% 17.6M 0s\n",
      "   550K .......... .......... .......... .......... .......... 38%  403M 0s\n",
      "   600K .......... .......... .......... .......... .......... 41%  477M 0s\n",
      "   650K .......... .......... .......... .......... .......... 44%  431M 0s\n",
      "   700K .......... .......... .......... .......... .......... 47%  468M 0s\n",
      "   750K .......... .......... .......... .......... .......... 50%  466M 0s\n",
      "   800K .......... .......... .......... .......... .......... 53%  384M 0s\n",
      "   850K .......... .......... .......... .......... .......... 57% 1.15M 0s\n",
      "   900K .......... .......... .......... .......... .......... 60% 2.37M 0s\n",
      "   950K .......... .......... .......... .......... .......... 63% 20.6M 0s\n",
      "  1000K .......... .......... .......... .......... .......... 66% 63.0M 0s\n",
      "  1050K .......... .......... .......... .......... .......... 69% 33.0M 0s\n",
      "  1100K .......... .......... .......... .......... .......... 72% 59.0M 0s\n",
      "  1150K .......... .......... .......... .......... .......... 76%  228M 0s\n",
      "  1200K .......... .......... .......... .......... .......... 79% 17.2M 0s\n",
      "  1250K .......... .......... .......... .......... .......... 82% 1.81M 0s\n",
      "  1300K .......... .......... .......... .......... .......... 85%  211M 0s\n",
      "  1350K .......... .......... .......... .......... .......... 88% 56.3M 0s\n",
      "  1400K .......... .......... .......... .......... .......... 91% 85.7M 0s\n",
      "  1450K .......... .......... .......... .......... .......... 95% 32.7M 0s\n",
      "  1500K .......... .......... .......... .......... .......... 98% 19.4M 0s\n",
      "  1550K .......... .......... .......                         100%  212M=0.3s\n",
      "\n",
      "2023-05-30 09:18:54 (6.01 MB/s) - ‘data/green_tripdata_2022-03.parquet’ saved [1615562/1615562]\n",
      "\n"
     ]
    },
    {
     "name": "stdout",
     "output_type": "stream",
     "text": [
      "152K output/dv.pkl\n"
     ]
    }
   ],
   "source": [
    "%%bash\n",
    "\n",
    "mkdir -p data\n",
    "wget https://d37ci6vzurychx.cloudfront.net/trip-data/green_tripdata_2022-01.parquet -P data\n",
    "wget https://d37ci6vzurychx.cloudfront.net/trip-data/green_tripdata_2022-02.parquet -P data\n",
    "wget https://d37ci6vzurychx.cloudfront.net/trip-data/green_tripdata_2022-03.parquet -P data\n",
    "\n",
    "python preprocess_data.py --raw_data_path data --dest_path ./output\n",
    "echo $(du -sh output/dv.pkl)"
   ]
  },
  {
   "attachments": {},
   "cell_type": "markdown",
   "metadata": {},
   "source": [
    "### Q3"
   ]
  },
  {
   "cell_type": "code",
   "execution_count": 3,
   "metadata": {},
   "outputs": [
    {
     "name": "stdout",
     "output_type": "stream",
     "text": [
      "2023/05/30 09:19:40 INFO mlflow.store.db.utils: Creating initial MLflow database tables...\n",
      "2023/05/30 09:19:40 INFO mlflow.store.db.utils: Updating database tables\n",
      "INFO  [alembic.runtime.migration] Context impl SQLiteImpl.\n",
      "INFO  [alembic.runtime.migration] Will assume non-transactional DDL.\n",
      "INFO  [alembic.runtime.migration] Running upgrade  -> 451aebb31d03, add metric step\n",
      "INFO  [alembic.runtime.migration] Running upgrade 451aebb31d03 -> 90e64c465722, migrate user column to tags\n",
      "INFO  [alembic.runtime.migration] Running upgrade 90e64c465722 -> 181f10493468, allow nulls for metric values\n",
      "INFO  [alembic.runtime.migration] Running upgrade 181f10493468 -> df50e92ffc5e, Add Experiment Tags Table\n",
      "INFO  [alembic.runtime.migration] Running upgrade df50e92ffc5e -> 7ac759974ad8, Update run tags with larger limit\n",
      "INFO  [alembic.runtime.migration] Running upgrade 7ac759974ad8 -> 89d4b8295536, create latest metrics table\n",
      "INFO  [89d4b8295536_create_latest_metrics_table_py] Migration complete!\n",
      "INFO  [alembic.runtime.migration] Running upgrade 89d4b8295536 -> 2b4d017a5e9b, add model registry tables to db\n",
      "INFO  [2b4d017a5e9b_add_model_registry_tables_to_db_py] Adding registered_models and model_versions tables to database.\n",
      "INFO  [2b4d017a5e9b_add_model_registry_tables_to_db_py] Migration complete!\n",
      "INFO  [alembic.runtime.migration] Running upgrade 2b4d017a5e9b -> cfd24bdc0731, Update run status constraint with killed\n",
      "INFO  [alembic.runtime.migration] Running upgrade cfd24bdc0731 -> 0a8213491aaa, drop_duplicate_killed_constraint\n",
      "INFO  [alembic.runtime.migration] Running upgrade 0a8213491aaa -> 728d730b5ebd, add registered model tags table\n",
      "INFO  [alembic.runtime.migration] Running upgrade 728d730b5ebd -> 27a6a02d2cf1, add model version tags table\n",
      "INFO  [alembic.runtime.migration] Running upgrade 27a6a02d2cf1 -> 84291f40a231, add run_link to model_version\n",
      "INFO  [alembic.runtime.migration] Running upgrade 84291f40a231 -> a8c4a736bde6, allow nulls for run_id\n",
      "INFO  [alembic.runtime.migration] Running upgrade a8c4a736bde6 -> 39d1c3be5f05, add_is_nan_constraint_for_metrics_tables_if_necessary\n",
      "INFO  [alembic.runtime.migration] Running upgrade 39d1c3be5f05 -> c48cb773bb87, reset_default_value_for_is_nan_in_metrics_table_for_mysql\n",
      "INFO  [alembic.runtime.migration] Running upgrade c48cb773bb87 -> bd07f7e963c5, create index on run_uuid\n",
      "INFO  [alembic.runtime.migration] Running upgrade bd07f7e963c5 -> 0c779009ac13, add deleted_time field to runs table\n",
      "INFO  [alembic.runtime.migration] Running upgrade 0c779009ac13 -> cc1f77228345, change param value length to 500\n",
      "INFO  [alembic.runtime.migration] Running upgrade cc1f77228345 -> 97727af70f4d, Add creation_time and last_update_time to experiments table\n",
      "INFO  [alembic.runtime.migration] Running upgrade 97727af70f4d -> 3500859a5d39, Add Model Aliases table\n",
      "INFO  [alembic.runtime.migration] Context impl SQLiteImpl.\n",
      "INFO  [alembic.runtime.migration] Will assume non-transactional DDL.\n",
      "2023/05/30 09:19:40 INFO mlflow.tracking.fluent: Experiment with name 'random-forest-base' does not exist. Creating a new experiment.\n",
      "2023/05/30 09:19:50 WARNING mlflow.utils.autologging_utils: MLflow autologging encountered a warning: \"/home/alina/anaconda3/envs/mlops_zoomcamp/lib/python3.9/site-packages/_distutils_hack/__init__.py:33: UserWarning: Setuptools is replacing distutils.\"\n",
      "RMSE base train: 1.9457\n",
      "RMSE base valid: 2.4540\n"
     ]
    }
   ],
   "source": [
    "!python train.py"
   ]
  },
  {
   "cell_type": "code",
   "execution_count": 7,
   "metadata": {},
   "outputs": [
    {
     "data": {
      "text/plain": [
       "'10'"
      ]
     },
     "execution_count": 7,
     "metadata": {},
     "output_type": "execute_result"
    }
   ],
   "source": [
    "import mlflow\n",
    "from mlflow.tracking import MlflowClient\n",
    "from mlflow.entities import ViewType\n",
    "from train import EXPERIMENT_NAME as BASE\n",
    "\n",
    "mlflow.set_tracking_uri(\"http://127.0.0.1:5000\")\n",
    "client = MlflowClient()\n",
    "experiment = client.get_experiment_by_name(BASE)\n",
    "run = client.search_runs(experiment_ids=experiment.experiment_id, \n",
    "                          run_view_type=ViewType.ACTIVE_ONLY, \n",
    "                          max_results=1)[0]\n",
    "run.data.params['max_depth']"
   ]
  },
  {
   "attachments": {},
   "cell_type": "markdown",
   "metadata": {},
   "source": [
    "### Q4"
   ]
  },
  {
   "cell_type": "code",
   "execution_count": 8,
   "metadata": {},
   "outputs": [
    {
     "name": "stdout",
     "output_type": "stream",
     "text": [
      "2023/05/30 09:25:41 INFO mlflow.tracking.fluent: Experiment with name 'random-forest-hyperopt' does not exist. Creating a new experiment.\n",
      "\u001b[32m[I 2023-05-30 09:25:41,199]\u001b[0m A new study created in memory with name: no-name-64fb0085-8ecf-4ad2-917b-cc808479781f\u001b[0m\n",
      "\u001b[32m[I 2023-05-30 09:25:42,306]\u001b[0m Trial 0 finished with value: 2.451379690825458 and parameters: {'n_estimators': 25, 'max_depth': 20, 'min_samples_split': 8, 'min_samples_leaf': 3}. Best is trial 0 with value: 2.451379690825458.\u001b[0m\n",
      "\u001b[32m[I 2023-05-30 09:25:42,494]\u001b[0m Trial 1 finished with value: 2.4667366020368333 and parameters: {'n_estimators': 16, 'max_depth': 4, 'min_samples_split': 2, 'min_samples_leaf': 4}. Best is trial 0 with value: 2.451379690825458.\u001b[0m\n",
      "\u001b[32m[I 2023-05-30 09:25:43,491]\u001b[0m Trial 2 finished with value: 2.449827329704216 and parameters: {'n_estimators': 34, 'max_depth': 15, 'min_samples_split': 2, 'min_samples_leaf': 4}. Best is trial 2 with value: 2.449827329704216.\u001b[0m\n",
      "\u001b[32m[I 2023-05-30 09:25:43,905]\u001b[0m Trial 3 finished with value: 2.460983516558473 and parameters: {'n_estimators': 44, 'max_depth': 5, 'min_samples_split': 3, 'min_samples_leaf': 1}. Best is trial 2 with value: 2.449827329704216.\u001b[0m\n",
      "\u001b[32m[I 2023-05-30 09:25:44,402]\u001b[0m Trial 4 finished with value: 2.453877262701052 and parameters: {'n_estimators': 22, 'max_depth': 11, 'min_samples_split': 5, 'min_samples_leaf': 2}. Best is trial 2 with value: 2.449827329704216.\u001b[0m\n",
      "\u001b[32m[I 2023-05-30 09:25:44,685]\u001b[0m Trial 5 finished with value: 2.4720122094960733 and parameters: {'n_estimators': 35, 'max_depth': 3, 'min_samples_split': 4, 'min_samples_leaf': 2}. Best is trial 2 with value: 2.449827329704216.\u001b[0m\n",
      "\u001b[32m[I 2023-05-30 09:25:45,584]\u001b[0m Trial 6 finished with value: 2.4516421799356767 and parameters: {'n_estimators': 28, 'max_depth': 16, 'min_samples_split': 3, 'min_samples_leaf': 3}. Best is trial 2 with value: 2.449827329704216.\u001b[0m\n",
      "\u001b[32m[I 2023-05-30 09:25:45,770]\u001b[0m Trial 7 finished with value: 2.5374040268274087 and parameters: {'n_estimators': 34, 'max_depth': 1, 'min_samples_split': 7, 'min_samples_leaf': 1}. Best is trial 2 with value: 2.449827329704216.\u001b[0m\n",
      "\u001b[32m[I 2023-05-30 09:25:46,315]\u001b[0m Trial 8 finished with value: 2.455971238567075 and parameters: {'n_estimators': 12, 'max_depth': 19, 'min_samples_split': 10, 'min_samples_leaf': 4}. Best is trial 2 with value: 2.449827329704216.\u001b[0m\n",
      "\u001b[32m[I 2023-05-30 09:25:46,468]\u001b[0m Trial 9 finished with value: 2.486106021576535 and parameters: {'n_estimators': 22, 'max_depth': 2, 'min_samples_split': 8, 'min_samples_leaf': 2}. Best is trial 2 with value: 2.449827329704216.\u001b[0m\n"
     ]
    }
   ],
   "source": [
    "!python hpo.py"
   ]
  },
  {
   "cell_type": "code",
   "execution_count": 9,
   "metadata": {},
   "outputs": [
    {
     "data": {
      "text/plain": [
       "2.449827329704216"
      ]
     },
     "execution_count": 9,
     "metadata": {},
     "output_type": "execute_result"
    }
   ],
   "source": [
    "import mlflow\n",
    "from mlflow.tracking import MlflowClient\n",
    "from mlflow.entities import ViewType\n",
    "from hpo import EXPERIMENT_NAME as HPO\n",
    "\n",
    "mlflow.set_tracking_uri(\"http://127.0.0.1:5000\")\n",
    "client = MlflowClient()\n",
    "experiment = client.get_experiment_by_name(HPO)\n",
    "run = client.search_runs(experiment_ids=experiment.experiment_id, \n",
    "                         run_view_type=ViewType.ACTIVE_ONLY, \n",
    "                         order_by=[\"metrics.val_rmse ASC\"])[0]\n",
    "run.data.metrics['val_rmse']"
   ]
  },
  {
   "attachments": {},
   "cell_type": "markdown",
   "metadata": {},
   "source": [
    "### Q5"
   ]
  },
  {
   "cell_type": "code",
   "execution_count": 10,
   "metadata": {},
   "outputs": [
    {
     "name": "stdout",
     "output_type": "stream",
     "text": [
      "2023/05/30 09:26:37 INFO mlflow.tracking.fluent: Experiment with name 'random-forest-best-models' does not exist. Creating a new experiment.\n",
      "2023/05/30 09:26:40 WARNING mlflow.utils.autologging_utils: MLflow autologging encountered a warning: \"/home/alina/anaconda3/envs/mlops_zoomcamp/lib/python3.9/site-packages/_distutils_hack/__init__.py:33: UserWarning: Setuptools is replacing distutils.\"\n",
      "Successfully registered model 'random-forest-best'.\n",
      "2023/05/30 09:26:50 INFO mlflow.tracking._model_registry.client: Waiting up to 300 seconds for model version to finish creation. Model name: random-forest-best, version 1\n",
      "Created version '1' of model 'random-forest-best'.\n"
     ]
    }
   ],
   "source": [
    "!python register_model.py"
   ]
  },
  {
   "cell_type": "code",
   "execution_count": 11,
   "metadata": {},
   "outputs": [
    {
     "name": "stdout",
     "output_type": "stream",
     "text": [
      "2.2854691906481364\n"
     ]
    }
   ],
   "source": [
    "import mlflow\n",
    "from mlflow.tracking import MlflowClient\n",
    "from mlflow.entities import ViewType\n",
    "from register_model import EXPERIMENT_NAME as BEST\n",
    "\n",
    "mlflow.set_tracking_uri(\"http://127.0.0.1:5000\")\n",
    "client = MlflowClient()\n",
    "experiment = client.get_experiment_by_name(BEST)\n",
    "run = client.search_runs(experiment_ids=experiment.experiment_id, \n",
    "                         run_view_type=ViewType.ACTIVE_ONLY, \n",
    "                         order_by=[\"metrics.test_rmse ASC\"])[0]\n",
    "print(run.data.metrics['test_rmse'])"
   ]
  },
  {
   "cell_type": "code",
   "execution_count": 12,
   "metadata": {},
   "outputs": [
    {
     "name": "stderr",
     "output_type": "stream",
     "text": [
      "2023/05/30 09:27:19 WARNING mlflow.pyfunc: Detected one or more mismatches between the model's dependencies and the current Python environment:\n",
      " - mlflow (current: 2.3.2, required: mlflow==2.3)\n",
      "To fix the mismatches, call `mlflow.pyfunc.get_model_dependencies(model_uri)` to fetch the model's environment and install dependencies using the resulting environment file.\n"
     ]
    },
    {
     "name": "stdout",
     "output_type": "stream",
     "text": [
      "2.2854691906481364\n"
     ]
    }
   ],
   "source": [
    "import mlflow.pyfunc\n",
    "\n",
    "from sklearn.metrics import mean_squared_error\n",
    "from register_model import BEST_MODEL_NAME as BEST_MODEL\n",
    "from register_model import load_pickle\n",
    "from pathlib import Path\n",
    "\n",
    "model_version = 1\n",
    "data_path = \"./output\"\n",
    "model = mlflow.pyfunc.load_model(model_uri=f\"models:/{BEST_MODEL}/{model_version}\")\n",
    "X_test, y_test = load_pickle(Path(data_path) / \"test.pkl\")\n",
    "\n",
    "test_rmse = mean_squared_error(y_test, model.predict(X_test), squared=False)\n",
    "print(test_rmse)"
   ]
  },
  {
   "cell_type": "code",
   "execution_count": 13,
   "metadata": {},
   "outputs": [
    {
     "data": {
      "text/plain": [
       "<ModelVersion: aliases=[], creation_timestamp=1685428010411, current_stage='Production', description='', last_updated_timestamp=1685428055661, name='random-forest-best', run_id='7439b0267c1b468b9765038a3b6363fd', run_link='', source='mlflow-artifacts:/3/7439b0267c1b468b9765038a3b6363fd/artifacts/model', status='READY', status_message='', tags={}, user_id='', version='1'>"
      ]
     },
     "execution_count": 13,
     "metadata": {},
     "output_type": "execute_result"
    }
   ],
   "source": [
    "client = MlflowClient()\n",
    "client.transition_model_version_stage(\n",
    "    name=BEST_MODEL, version=model_version, stage=\"Production\"\n",
    ")"
   ]
  },
  {
   "attachments": {},
   "cell_type": "markdown",
   "metadata": {},
   "source": [
    "### Q6"
   ]
  },
  {
   "cell_type": "code",
   "execution_count": 14,
   "metadata": {},
   "outputs": [
    {
     "name": "stdout",
     "output_type": "stream",
     "text": [
      "{   'aliases': {},\n",
      "    'creation_timestamp': 1685428010392,\n",
      "    'description': '',\n",
      "    'last_updated_timestamp': 1685428055661,\n",
      "    'latest_versions': [   <ModelVersion: aliases=[], creation_timestamp=1685428010411, current_stage='Production', description='', last_updated_timestamp=1685428055661, name='random-forest-best', run_id='7439b0267c1b468b9765038a3b6363fd', run_link='', source='mlflow-artifacts:/3/7439b0267c1b468b9765038a3b6363fd/artifacts/model', status='READY', status_message='', tags={}, user_id='', version='1'>],\n",
      "    'name': 'random-forest-best',\n",
      "    'tags': {}}\n"
     ]
    }
   ],
   "source": [
    "from pprint import pprint\n",
    "\n",
    "client = MlflowClient()\n",
    "for rm in client.search_registered_models():\n",
    "    pprint(dict(rm), indent=4)"
   ]
  }
 ],
 "metadata": {
  "kernelspec": {
   "display_name": "mlops_zoomcamp",
   "language": "python",
   "name": "python3"
  },
  "language_info": {
   "codemirror_mode": {
    "name": "ipython",
    "version": 3
   },
   "file_extension": ".py",
   "mimetype": "text/x-python",
   "name": "python",
   "nbconvert_exporter": "python",
   "pygments_lexer": "ipython3",
   "version": "3.9.16"
  },
  "orig_nbformat": 4
 },
 "nbformat": 4,
 "nbformat_minor": 2
}
