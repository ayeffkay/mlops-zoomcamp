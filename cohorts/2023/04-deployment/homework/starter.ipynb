{
 "cells": [
  {
   "cell_type": "code",
   "execution_count": 1,
   "id": "2c51efaa",
   "metadata": {},
   "outputs": [
    {
     "name": "stdout",
     "output_type": "stream",
     "text": [
      "scikit-learn==1.2.2\n"
     ]
    }
   ],
   "source": [
    "!pip freeze | grep scikit-learn"
   ]
  },
  {
   "cell_type": "code",
   "execution_count": 2,
   "id": "0ef880a0",
   "metadata": {},
   "outputs": [],
   "source": [
    "import pickle\n",
    "import pandas as pd\n",
    "import numpy as np"
   ]
  },
  {
   "cell_type": "code",
   "execution_count": 3,
   "id": "7836ccfd",
   "metadata": {},
   "outputs": [],
   "source": [
    "with open('model.bin', 'rb') as f_in:\n",
    "    dv, model = pickle.load(f_in)"
   ]
  },
  {
   "cell_type": "code",
   "execution_count": 4,
   "id": "41c08294",
   "metadata": {},
   "outputs": [],
   "source": [
    "categorical = ['PULocationID', 'DOLocationID']\n",
    "\n",
    "def read_data(filename):\n",
    "    df = pd.read_parquet(filename)\n",
    "    \n",
    "    df['duration'] = df.tpep_dropoff_datetime - df.tpep_pickup_datetime\n",
    "    df['duration'] = df.duration.dt.total_seconds() / 60\n",
    "\n",
    "    df = df[(df.duration >= 1) & (df.duration <= 60)].copy()\n",
    "\n",
    "    df[categorical] = df[categorical].fillna(-1).astype('int').astype('str')\n",
    "    \n",
    "    return df"
   ]
  },
  {
   "cell_type": "code",
   "execution_count": 5,
   "id": "4854399a",
   "metadata": {},
   "outputs": [],
   "source": [
    "df = read_data('https://d37ci6vzurychx.cloudfront.net/trip-data/yellow_tripdata_2022-02.parquet')"
   ]
  },
  {
   "cell_type": "code",
   "execution_count": 6,
   "id": "669fda0a",
   "metadata": {},
   "outputs": [],
   "source": [
    "dicts = df[categorical].to_dict(orient='records')\n",
    "X_val = dv.transform(dicts)\n",
    "y_pred = model.predict(X_val)"
   ]
  },
  {
   "attachments": {},
   "cell_type": "markdown",
   "id": "3e0b746c",
   "metadata": {},
   "source": [
    "### Q1"
   ]
  },
  {
   "cell_type": "code",
   "execution_count": 7,
   "id": "63f3137e",
   "metadata": {},
   "outputs": [
    {
     "data": {
      "text/plain": [
       "5.28140357655334"
      ]
     },
     "execution_count": 7,
     "metadata": {},
     "output_type": "execute_result"
    }
   ],
   "source": [
    "np.std(y_pred)"
   ]
  },
  {
   "attachments": {},
   "cell_type": "markdown",
   "id": "e8622182",
   "metadata": {},
   "source": [
    "### Q2"
   ]
  },
  {
   "cell_type": "code",
   "execution_count": 23,
   "id": "0ac14bca",
   "metadata": {},
   "outputs": [],
   "source": [
    "ride_id = (f'{2022:04d}/{2:02d}_' + df.index.astype('str')).to_numpy()\n",
    "data = np.concatenate((ride_id[:, np.newaxis], y_pred[:, np.newaxis]), axis=1)\n",
    "output_df = pd.DataFrame(data, columns=['ride_id', 'predicted_duration'])"
   ]
  },
  {
   "cell_type": "code",
   "execution_count": 24,
   "id": "6c84d80a",
   "metadata": {},
   "outputs": [
    {
     "data": {
      "text/plain": [
       "<bound method NDFrame.head of                  ride_id predicted_duration\n",
       "0              2022/02_0          18.527783\n",
       "1              2022/02_1          23.065782\n",
       "2              2022/02_2          33.686359\n",
       "3              2022/02_3          23.757436\n",
       "4              2022/02_4          21.492904\n",
       "...                  ...                ...\n",
       "2918182  2022/02_2979426          12.038225\n",
       "2918183  2022/02_2979427          11.441569\n",
       "2918184  2022/02_2979428          11.890459\n",
       "2918185  2022/02_2979429          15.102681\n",
       "2918186  2022/02_2979430           9.460592\n",
       "\n",
       "[2918187 rows x 2 columns]>"
      ]
     },
     "execution_count": 24,
     "metadata": {},
     "output_type": "execute_result"
    }
   ],
   "source": [
    "output_df.head"
   ]
  },
  {
   "cell_type": "code",
   "execution_count": 25,
   "id": "8690c06e",
   "metadata": {},
   "outputs": [],
   "source": [
    "output_df.to_parquet('yellow_taxi.parquet', engine='pyarrow', compression=None, index=False)"
   ]
  },
  {
   "cell_type": "code",
   "execution_count": 26,
   "id": "9a7ee613",
   "metadata": {},
   "outputs": [
    {
     "name": "stdout",
     "output_type": "stream",
     "text": [
      "58M\tyellow_taxi.parquet\n"
     ]
    }
   ],
   "source": [
    "!du -sh yellow_taxi.parquet"
   ]
  },
  {
   "attachments": {},
   "cell_type": "markdown",
   "id": "b669901b",
   "metadata": {},
   "source": [
    "### Q3\n",
    "See [starter.py](starter.py)"
   ]
  },
  {
   "cell_type": "code",
   "execution_count": null,
   "id": "2662c7a2",
   "metadata": {},
   "outputs": [],
   "source": [
    "!jupyter nbconvert --to script starter.ipynb"
   ]
  },
  {
   "attachments": {},
   "cell_type": "markdown",
   "id": "35c4a7e3",
   "metadata": {},
   "source": [
    "### Q4\n",
    "\n",
    "See [Pipfile](Pipfile) and [Pipfile.lock](Pipfile.lock)."
   ]
  },
  {
   "cell_type": "code",
   "execution_count": null,
   "id": "ea94c95a",
   "metadata": {},
   "outputs": [],
   "source": [
    "!python -m pipenv shell && pipenv install -r requirements.txt"
   ]
  },
  {
   "cell_type": "code",
   "execution_count": 6,
   "id": "ec026e4f",
   "metadata": {},
   "outputs": [
    {
     "name": "stdout",
     "output_type": "stream",
     "text": [
      "2484:        \"scikit-learn\": {\n"
     ]
    }
   ],
   "source": [
    "!grep -n scikit-learn Pipfile.lock"
   ]
  },
  {
   "cell_type": "code",
   "execution_count": 7,
   "id": "afdf5322",
   "metadata": {},
   "outputs": [
    {
     "name": "stdout",
     "output_type": "stream",
     "text": [
      "175:scikit-learn = \"==1.2.2\"\n"
     ]
    }
   ],
   "source": [
    "!grep -n scikit-learn Pipfile"
   ]
  },
  {
   "attachments": {},
   "cell_type": "markdown",
   "id": "071e7ffd",
   "metadata": {},
   "source": [
    "### Q5\n",
    "\n",
    "[starter.py](starter.py)"
   ]
  },
  {
   "cell_type": "code",
   "execution_count": 5,
   "id": "bfafafeb",
   "metadata": {},
   "outputs": [
    {
     "name": "stdout",
     "output_type": "stream",
     "text": [
      "[2023-06-19 22:24:12,314: INFO] Mean predicted duration for yellow_tripdata_2022-03.parquet = 12.7586 min.\n"
     ]
    }
   ],
   "source": [
    "!python starter.py --year 2022 --month 3 --taxi_type yellow"
   ]
  },
  {
   "attachments": {},
   "cell_type": "markdown",
   "id": "6690f4b6",
   "metadata": {},
   "source": [
    "### Q6\n",
    "\n",
    "[Dockerfile_predictions](Dockerfile_predictions)"
   ]
  },
  {
   "cell_type": "code",
   "execution_count": 4,
   "id": "540d0134",
   "metadata": {},
   "outputs": [
    {
     "name": "stdout",
     "output_type": "stream",
     "text": [
      "[2023-06-19 19:23:36,812: INFO] Mean predicted duration for yellow_tripdata_2022-04.parquet = 12.8272 min.\n"
     ]
    }
   ],
   "source": [
    "#docker build -t \"taxi_test\" -f Dockerfile_predictions .\n",
    "!docker run -it --rm --name taxi_test -v \"$PWD/starter.py\":/app/starter.py -w /app taxi_test python starter.py --year 2022 --month 4 --taxi_type yellow"
   ]
  }
 ],
 "metadata": {
  "kernelspec": {
   "display_name": "Python 3 (ipykernel)",
   "language": "python",
   "name": "python3"
  },
  "language_info": {
   "codemirror_mode": {
    "name": "ipython",
    "version": 3
   },
   "file_extension": ".py",
   "mimetype": "text/x-python",
   "name": "python",
   "nbconvert_exporter": "python",
   "pygments_lexer": "ipython3",
   "version": "3.9.16"
  }
 },
 "nbformat": 4,
 "nbformat_minor": 5
}
